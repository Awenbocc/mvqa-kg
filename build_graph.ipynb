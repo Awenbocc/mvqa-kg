{
 "cells": [
  {
   "cell_type": "code",
   "execution_count": null,
   "metadata": {},
   "outputs": [],
   "source": [
    "# node: system  organ-> fuction,shape symptom disease-> info,prevent,cause,cure,infectivity"
   ]
  },
  {
   "cell_type": "code",
   "execution_count": 1,
   "metadata": {},
   "outputs": [],
   "source": [
    "# -*- coding:utf-8 -*-\n",
    "from py2neo import Graph,Node,Relationship\n",
    "import pandas as pd\n",
    "import numpy as np"
   ]
  },
  {
   "cell_type": "code",
   "execution_count": 4,
   "metadata": {},
   "outputs": [],
   "source": [
    "neo_graph = test_graph = Graph(\n",
    "    \"http://localhost:7474\", \n",
    "    username=\"neo4j\", \n",
    "    password=\"0124\"\n",
    ")"
   ]
  },
  {
   "cell_type": "code",
   "execution_count": 5,
   "metadata": {},
   "outputs": [],
   "source": [
    "# zh \n",
    "path_organ = './organ.csv'\n",
    "path_organ_rel = './organ_rel.csv'\n",
    "path_disease = './disease.csv'"
   ]
  },
  {
   "cell_type": "code",
   "execution_count": 6,
   "metadata": {},
   "outputs": [],
   "source": [
    "organ = []\n",
    "system = []\n",
    "organ_nodes = []\n",
    "system_nodes = []\n",
    "rels = []\n",
    "organ_rel = np.array(pd.read_csv(path_organ_rel))\n",
    "pty = np.array(pd.read_csv(path_organ))"
   ]
  },
  {
   "cell_type": "code",
   "execution_count": 7,
   "metadata": {},
   "outputs": [],
   "source": [
    "nodes_list = []\n",
    "for i in organ_rel:\n",
    "    org,rel,sys = i\n",
    "    if org not in organ:\n",
    "        organ.append(org)\n",
    "        organ_nodes.append(Node(\"器官\",name=org))\n",
    "    if sys not in system:\n",
    "        system.append(sys)\n",
    "        system_nodes.append(Node(\"系统\",name=sys))\n",
    "    index_o = organ.index(org)\n",
    "    index_s = system.index(sys)\n",
    "    rels.append(Relationship(organ_nodes[index_o],\"属于\",system_nodes[index_s]))"
   ]
  },
  {
   "cell_type": "code",
   "execution_count": 8,
   "metadata": {},
   "outputs": [],
   "source": [
    "# add attribute from ./organ.csv to filful corresponding nodes\n",
    "for i in pty:\n",
    "    obj,rel,sbj = i\n",
    "    node = None\n",
    "    if obj in organ:\n",
    "        index = organ.index(obj)\n",
    "        node = organ_nodes[index]\n",
    "    elif obj in system:\n",
    "        index = system.index(obj)\n",
    "        node = system_nodes[index]\n",
    "    else:\n",
    "        node = Node(\"器官\",name = obj)\n",
    "        organ.append(obj)\n",
    "        organ_nodes.append(node)\n",
    "    \n",
    "        \n",
    "        \n",
    "    if sbj in organ:\n",
    "        index = organ.index(sbj)\n",
    "        s_node = organ_nodes[index]\n",
    "        rels.append(Relationship(node,rel,s_node))\n",
    "        if rel =='别称':\n",
    "            rels.append(Relationship(s_node,rel,node))\n",
    "    else:\n",
    "        if rel =='别称':\n",
    "            r_node = Node(\"器官\",name = sbj)\n",
    "            organ.append(sbj)\n",
    "            organ_nodes.append(r_node)\n",
    "            rels.append(Relationship(r_node,rel,node))\n",
    "            rels.append(Relationship(node,rel,r_node))\n",
    "        else:   \n",
    "            node[rel] = sbj"
   ]
  },
  {
   "cell_type": "code",
   "execution_count": 9,
   "metadata": {},
   "outputs": [],
   "source": [
    "# process disease : entity，别称 \n",
    "disease_info = np.array(pd.read_csv(path_disease))\n",
    "disease = []\n",
    "disease_nodes = []\n",
    "disease_organ = []"
   ]
  },
  {
   "cell_type": "code",
   "execution_count": 10,
   "metadata": {},
   "outputs": [
    {
     "ename": "ValueError",
     "evalue": "'肾' is not in list",
     "output_type": "error",
     "traceback": [
      "\u001b[0;31m---------------------------------------------------------------------------\u001b[0m",
      "\u001b[0;31mValueError\u001b[0m                                Traceback (most recent call last)",
      "\u001b[0;32m<ipython-input-10-cac74c0da0e6>\u001b[0m in \u001b[0;36m<module>\u001b[0;34m\u001b[0m\n\u001b[1;32m     15\u001b[0m             \u001b[0mto_node\u001b[0m \u001b[0;34m=\u001b[0m \u001b[0morgan_nodes\u001b[0m\u001b[0;34m[\u001b[0m\u001b[0mindex\u001b[0m\u001b[0;34m]\u001b[0m\u001b[0;34m\u001b[0m\u001b[0;34m\u001b[0m\u001b[0m\n\u001b[1;32m     16\u001b[0m         \u001b[0;32melse\u001b[0m\u001b[0;34m:\u001b[0m\u001b[0;34m\u001b[0m\u001b[0;34m\u001b[0m\u001b[0m\n\u001b[0;32m---> 17\u001b[0;31m             \u001b[0mindex\u001b[0m \u001b[0;34m=\u001b[0m \u001b[0msystem\u001b[0m\u001b[0;34m.\u001b[0m\u001b[0mindex\u001b[0m\u001b[0;34m(\u001b[0m\u001b[0matt\u001b[0m\u001b[0;34m)\u001b[0m\u001b[0;34m\u001b[0m\u001b[0;34m\u001b[0m\u001b[0m\n\u001b[0m\u001b[1;32m     18\u001b[0m             \u001b[0mto_node\u001b[0m \u001b[0;34m=\u001b[0m \u001b[0msystem_nodes\u001b[0m\u001b[0;34m[\u001b[0m\u001b[0mindex\u001b[0m\u001b[0;34m]\u001b[0m\u001b[0;34m\u001b[0m\u001b[0;34m\u001b[0m\u001b[0m\n\u001b[1;32m     19\u001b[0m         \u001b[0mdisease_organ\u001b[0m\u001b[0;34m.\u001b[0m\u001b[0mappend\u001b[0m\u001b[0;34m(\u001b[0m\u001b[0mRelationship\u001b[0m\u001b[0;34m(\u001b[0m\u001b[0mnode\u001b[0m\u001b[0;34m,\u001b[0m\u001b[0mrel\u001b[0m\u001b[0;34m,\u001b[0m\u001b[0mto_node\u001b[0m\u001b[0;34m)\u001b[0m\u001b[0;34m)\u001b[0m\u001b[0;34m\u001b[0m\u001b[0;34m\u001b[0m\u001b[0m\n",
      "\u001b[0;31mValueError\u001b[0m: '肾' is not in list"
     ]
    }
   ],
   "source": [
    "for i in disease_info:\n",
    "    dis,rel,att = i\n",
    "    node = None\n",
    "    if dis not in disease:\n",
    "        disease.append(dis)\n",
    "        node = Node(\"疾病\",name = dis)\n",
    "        disease_nodes.append(node)\n",
    "    else:\n",
    "        index = disease.index(dis)\n",
    "        node = disease_nodes[index]\n",
    "        \n",
    "    if rel =='发病部位':\n",
    "        if att in organ:\n",
    "            index = organ.index(att)\n",
    "            to_node = organ_nodes[index]\n",
    "        else:\n",
    "            index = system.index(att)\n",
    "            to_node = system_nodes[index]\n",
    "        disease_organ.append(Relationship(node,rel,to_node))\n",
    "    elif rel =='别称':\n",
    "        re_node = None\n",
    "        if att in disease:\n",
    "            idx = disease.index(att)\n",
    "            re_node = disease_nodes[idx]\n",
    "        else:\n",
    "            re_node = Node(\"疾病\",name = att)\n",
    "            disease.append(att)\n",
    "            disease_nodes.append(re_node)\n",
    "        # bidirection\n",
    "        disease_organ.append(Relationship(re_node,rel,node))\n",
    "        disease_organ.append(Relationship(node,rel,re_node))\n",
    "    else:\n",
    "        node[rel] = att"
   ]
  },
  {
   "cell_type": "code",
   "execution_count": 11,
   "metadata": {},
   "outputs": [],
   "source": [
    "# en\n",
    "en_path_organ_rel = './en_organ_rel.csv'\n",
    "en_path_organ = './en_organ.csv'\n",
    "en_path_disease = './en_disease.csv'\n",
    "en_organ = []\n",
    "en_system = []\n",
    "en_organ_nodes = []\n",
    "en_system_nodes = []\n",
    "en_rels = []\n",
    "en_file_organ_rel = np.array(pd.read_csv(en_path_organ_rel,'#'))\n",
    "en_file_organ = np.array(pd.read_csv(en_path_organ,sep='#'))\n",
    "en_file_disease = np.array(pd.read_csv(en_path_disease,sep='#'))"
   ]
  },
  {
   "cell_type": "code",
   "execution_count": 12,
   "metadata": {},
   "outputs": [],
   "source": [
    "en_nodes_list = []\n",
    "for i in en_file_organ_rel:\n",
    "    org,rel,sys = i\n",
    "    if org not in en_organ:\n",
    "        en_organ.append(org)\n",
    "        en_organ_nodes.append(Node(\"Organ\",name=org))\n",
    "    if sys not in en_system:\n",
    "        en_system.append(sys)\n",
    "        en_system_nodes.append(Node(\"System\",name=sys))\n",
    "    index_o = en_organ.index(org)\n",
    "    index_s = en_system.index(sys)\n",
    "    en_rels.append(Relationship(en_organ_nodes[index_o],\"belong to\",en_system_nodes[index_s]))"
   ]
  },
  {
   "cell_type": "code",
   "execution_count": 13,
   "metadata": {},
   "outputs": [],
   "source": [
    "# add attribute from ./organ.csv to filful corresponding nodes\n",
    "for i in en_file_organ:\n",
    "    obj,rel,sbj = i\n",
    "    node = None\n",
    "    if obj in en_organ:\n",
    "        index = en_organ.index(obj)\n",
    "        node = en_organ_nodes[index]\n",
    "    elif obj in en_system:\n",
    "        index = en_system.index(obj)\n",
    "        node = en_system_nodes[index]\n",
    "    else:\n",
    "        node = Node(\"Organ\",name = obj)\n",
    "        en_organ.append(obj)\n",
    "        en_organ_nodes.append(node)     \n",
    "        \n",
    "    if sbj in en_organ:\n",
    "        index = en_organ.index(sbj)\n",
    "        s_node = en_organ_nodes[index]\n",
    "        en_rels.append(Relationship(node,rel,s_node))\n",
    "        if rel =='alias':\n",
    "            en_rels.append(Relationship(s_node,rel,node))\n",
    "    else:\n",
    "        if rel =='alias':\n",
    "            r_node = Node(\"Organ\",name = sbj)\n",
    "            en_organ.append(sbj)\n",
    "            en_organ_nodes.append(r_node)\n",
    "            en_rels.append(Relationship(r_node,rel,node))\n",
    "            en_rels.append(Relationship(node,rel,r_node))\n",
    "        else:   \n",
    "            node[rel] = sbj"
   ]
  },
  {
   "cell_type": "code",
   "execution_count": 14,
   "metadata": {},
   "outputs": [],
   "source": [
    "en_disease = []\n",
    "en_disease_nodes = []\n",
    "en_disease_organ = []"
   ]
  },
  {
   "cell_type": "code",
   "execution_count": 15,
   "metadata": {},
   "outputs": [
    {
     "ename": "ValueError",
     "evalue": "'Throat' is not in list",
     "output_type": "error",
     "traceback": [
      "\u001b[0;31m---------------------------------------------------------------------------\u001b[0m",
      "\u001b[0;31mValueError\u001b[0m                                Traceback (most recent call last)",
      "\u001b[0;32m<ipython-input-15-b89a8901b006>\u001b[0m in \u001b[0;36m<module>\u001b[0;34m\u001b[0m\n\u001b[1;32m     15\u001b[0m             \u001b[0mto_node\u001b[0m \u001b[0;34m=\u001b[0m \u001b[0men_organ_nodes\u001b[0m\u001b[0;34m[\u001b[0m\u001b[0mindex\u001b[0m\u001b[0;34m]\u001b[0m\u001b[0;34m\u001b[0m\u001b[0;34m\u001b[0m\u001b[0m\n\u001b[1;32m     16\u001b[0m         \u001b[0;32melse\u001b[0m\u001b[0;34m:\u001b[0m\u001b[0;34m\u001b[0m\u001b[0;34m\u001b[0m\u001b[0m\n\u001b[0;32m---> 17\u001b[0;31m             \u001b[0mindex\u001b[0m \u001b[0;34m=\u001b[0m \u001b[0men_system\u001b[0m\u001b[0;34m.\u001b[0m\u001b[0mindex\u001b[0m\u001b[0;34m(\u001b[0m\u001b[0matt\u001b[0m\u001b[0;34m)\u001b[0m\u001b[0;34m\u001b[0m\u001b[0;34m\u001b[0m\u001b[0m\n\u001b[0m\u001b[1;32m     18\u001b[0m             \u001b[0mto_node\u001b[0m \u001b[0;34m=\u001b[0m \u001b[0men_system_nodes\u001b[0m\u001b[0;34m[\u001b[0m\u001b[0mindex\u001b[0m\u001b[0;34m]\u001b[0m\u001b[0;34m\u001b[0m\u001b[0;34m\u001b[0m\u001b[0m\n\u001b[1;32m     19\u001b[0m         \u001b[0mdisease_organ\u001b[0m\u001b[0;34m.\u001b[0m\u001b[0mappend\u001b[0m\u001b[0;34m(\u001b[0m\u001b[0mRelationship\u001b[0m\u001b[0;34m(\u001b[0m\u001b[0mnode\u001b[0m\u001b[0;34m,\u001b[0m\u001b[0mrel\u001b[0m\u001b[0;34m,\u001b[0m\u001b[0mto_node\u001b[0m\u001b[0;34m)\u001b[0m\u001b[0;34m)\u001b[0m\u001b[0;34m\u001b[0m\u001b[0;34m\u001b[0m\u001b[0m\n",
      "\u001b[0;31mValueError\u001b[0m: 'Throat' is not in list"
     ]
    }
   ],
   "source": [
    "for i in en_file_disease:\n",
    "    dis,rel,att = i\n",
    "    node = None\n",
    "    if dis not in en_disease:\n",
    "        en_disease.append(dis)\n",
    "        node = Node(\"disease\",name = dis)\n",
    "        en_disease_nodes.append(node)\n",
    "    else:\n",
    "        index = en_disease.index(dis)\n",
    "        node = en_disease_nodes[index]\n",
    "        \n",
    "    if rel =='location':\n",
    "        if att in en_organ:\n",
    "            index = en_organ.index(att)\n",
    "            to_node = en_organ_nodes[index]\n",
    "        else:\n",
    "            index = en_system.index(att)\n",
    "            to_node = en_system_nodes[index]\n",
    "        disease_organ.append(Relationship(node,rel,to_node))\n",
    "    elif rel =='alias':\n",
    "        re_node = None\n",
    "        if att in en_disease:\n",
    "            idx = en_disease.index(att)\n",
    "            re_node = en_disease_nodes[idx]\n",
    "        else:\n",
    "            re_node = Node(\"disease\",name = att)\n",
    "            en_disease.append(att)\n",
    "            en_disease_nodes.append(re_node)\n",
    "        # bidirection\n",
    "        disease_organ.append(Relationship(re_node,rel,node))\n",
    "        disease_organ.append(Relationship(node,rel,re_node))\n",
    "    else:\n",
    "        node[rel] = att"
   ]
  },
  {
   "cell_type": "code",
   "execution_count": 16,
   "metadata": {},
   "outputs": [],
   "source": [
    "# bridge zh and en\n",
    "tran_organ =[]\n",
    "tran_disease = []\n",
    "dict_en_zh_organ = './organ-en-zh.json'\n",
    "dict_en_zh_disease = './disease-en-zh.json'\n",
    "file_en_zh_organ = json.load(open(dict_en_zh_organ))\n",
    "file_en_zh_disease = json.load(open(dict_en_zh_disease))"
   ]
  },
  {
   "cell_type": "code",
   "execution_count": 17,
   "metadata": {},
   "outputs": [
    {
     "ename": "ValueError",
     "evalue": "'Throat' is not in list",
     "output_type": "error",
     "traceback": [
      "\u001b[0;31m---------------------------------------------------------------------------\u001b[0m",
      "\u001b[0;31mValueError\u001b[0m                                Traceback (most recent call last)",
      "\u001b[0;32m<ipython-input-17-c650d6977ef7>\u001b[0m in \u001b[0;36m<module>\u001b[0;34m\u001b[0m\n\u001b[1;32m      4\u001b[0m         \u001b[0mnode\u001b[0m \u001b[0;34m=\u001b[0m \u001b[0men_organ_nodes\u001b[0m\u001b[0;34m[\u001b[0m\u001b[0mindex\u001b[0m\u001b[0;34m]\u001b[0m\u001b[0;34m\u001b[0m\u001b[0;34m\u001b[0m\u001b[0m\n\u001b[1;32m      5\u001b[0m     \u001b[0;32melse\u001b[0m\u001b[0;34m:\u001b[0m\u001b[0;34m\u001b[0m\u001b[0;34m\u001b[0m\u001b[0m\n\u001b[0;32m----> 6\u001b[0;31m         \u001b[0mindex\u001b[0m \u001b[0;34m=\u001b[0m \u001b[0men_system\u001b[0m\u001b[0;34m.\u001b[0m\u001b[0mindex\u001b[0m\u001b[0;34m(\u001b[0m\u001b[0mi\u001b[0m\u001b[0;34m)\u001b[0m\u001b[0;34m\u001b[0m\u001b[0;34m\u001b[0m\u001b[0m\n\u001b[0m\u001b[1;32m      7\u001b[0m         \u001b[0mnode\u001b[0m \u001b[0;34m=\u001b[0m \u001b[0men_system_nodes\u001b[0m\u001b[0;34m[\u001b[0m\u001b[0mindex\u001b[0m\u001b[0;34m]\u001b[0m\u001b[0;34m\u001b[0m\u001b[0;34m\u001b[0m\u001b[0m\n\u001b[1;32m      8\u001b[0m     \u001b[0mzh\u001b[0m \u001b[0;34m=\u001b[0m \u001b[0mfile_en_zh_organ\u001b[0m\u001b[0;34m[\u001b[0m\u001b[0mi\u001b[0m\u001b[0;34m]\u001b[0m\u001b[0;34m\u001b[0m\u001b[0;34m\u001b[0m\u001b[0m\n",
      "\u001b[0;31mValueError\u001b[0m: 'Throat' is not in list"
     ]
    }
   ],
   "source": [
    "for i in file_en_zh_organ:\n",
    "    if i in en_organ:\n",
    "        index = en_organ.index(i)\n",
    "        node = en_organ_nodes[index]\n",
    "    else:\n",
    "        index = en_system.index(i)\n",
    "        node = en_system_nodes[index]\n",
    "    zh = file_en_zh_organ[i]\n",
    "    if zh in organ:\n",
    "        index = organ.index(zh)\n",
    "        to_node = organ_nodes[index]\n",
    "    else:\n",
    "        index = system.index(zh)\n",
    "        to_node = system_nodes[index]\n",
    "    tran_organ.append(Relationship(node,\"translation\",to_node))\n",
    "    tran_organ.append(Relationship(to_node,\"翻译\",node))"
   ]
  },
  {
   "cell_type": "code",
   "execution_count": 18,
   "metadata": {},
   "outputs": [
    {
     "ename": "ValueError",
     "evalue": "'膀胱癌' is not in list",
     "output_type": "error",
     "traceback": [
      "\u001b[0;31m---------------------------------------------------------------------------\u001b[0m",
      "\u001b[0;31mValueError\u001b[0m                                Traceback (most recent call last)",
      "\u001b[0;32m<ipython-input-18-0e04bd15d0bf>\u001b[0m in \u001b[0;36m<module>\u001b[0;34m\u001b[0m\n\u001b[1;32m      3\u001b[0m     \u001b[0mnode\u001b[0m \u001b[0;34m=\u001b[0m \u001b[0men_disease_nodes\u001b[0m\u001b[0;34m[\u001b[0m\u001b[0mindex\u001b[0m\u001b[0;34m]\u001b[0m\u001b[0;34m\u001b[0m\u001b[0;34m\u001b[0m\u001b[0m\n\u001b[1;32m      4\u001b[0m     \u001b[0mzh\u001b[0m \u001b[0;34m=\u001b[0m \u001b[0mfile_en_zh_disease\u001b[0m\u001b[0;34m[\u001b[0m\u001b[0mi\u001b[0m\u001b[0;34m]\u001b[0m\u001b[0;34m\u001b[0m\u001b[0;34m\u001b[0m\u001b[0m\n\u001b[0;32m----> 5\u001b[0;31m     \u001b[0midx\u001b[0m \u001b[0;34m=\u001b[0m \u001b[0mdisease\u001b[0m\u001b[0;34m.\u001b[0m\u001b[0mindex\u001b[0m\u001b[0;34m(\u001b[0m\u001b[0mzh\u001b[0m\u001b[0;34m)\u001b[0m\u001b[0;34m\u001b[0m\u001b[0;34m\u001b[0m\u001b[0m\n\u001b[0m\u001b[1;32m      6\u001b[0m     \u001b[0mto_node\u001b[0m \u001b[0;34m=\u001b[0m \u001b[0mdisease_nodes\u001b[0m\u001b[0;34m[\u001b[0m\u001b[0midx\u001b[0m\u001b[0;34m]\u001b[0m\u001b[0;34m\u001b[0m\u001b[0;34m\u001b[0m\u001b[0m\n\u001b[1;32m      7\u001b[0m     \u001b[0mtran_disease\u001b[0m\u001b[0;34m.\u001b[0m\u001b[0mappend\u001b[0m\u001b[0;34m(\u001b[0m\u001b[0mRelationship\u001b[0m\u001b[0;34m(\u001b[0m\u001b[0mnode\u001b[0m\u001b[0;34m,\u001b[0m\u001b[0;34m\"translation\"\u001b[0m\u001b[0;34m,\u001b[0m\u001b[0mto_node\u001b[0m\u001b[0;34m)\u001b[0m\u001b[0;34m)\u001b[0m\u001b[0;34m\u001b[0m\u001b[0;34m\u001b[0m\u001b[0m\n",
      "\u001b[0;31mValueError\u001b[0m: '膀胱癌' is not in list"
     ]
    }
   ],
   "source": [
    "for i in file_en_zh_disease:\n",
    "    index = en_disease.index(i)\n",
    "    node = en_disease_nodes[index]\n",
    "    zh = file_en_zh_disease[i]\n",
    "    idx = disease.index(zh)\n",
    "    to_node = disease_nodes[idx]\n",
    "    tran_disease.append(Relationship(node,\"translation\",to_node))\n",
    "    tran_disease.append(Relationship(to_node,\"翻译\",node))"
   ]
  },
  {
   "cell_type": "code",
   "execution_count": 19,
   "metadata": {},
   "outputs": [],
   "source": [
    "for i in organ_nodes:\n",
    "    neo_graph.create(i)\n",
    "for i in system_nodes:\n",
    "    neo_graph.create(i)\n",
    "for i in rels:\n",
    "    neo_graph.create(i)\n",
    "for i in disease_nodes:\n",
    "    neo_graph.create(i)\n",
    "for i in disease_organ:\n",
    "    neo_graph.create(i)\n",
    "\n",
    "for i in en_organ_nodes:\n",
    "    neo_graph.create(i)\n",
    "for i in en_system_nodes:\n",
    "    neo_graph.create(i)\n",
    "for i in en_rels:\n",
    "    neo_graph.create(i)\n",
    "for i in en_disease_nodes:\n",
    "    neo_graph.create(i)\n",
    "for i in en_disease_organ:\n",
    "    neo_graph.create(i)\n",
    "    \n",
    "for i in tran_organ:\n",
    "    neo_graph.create(i)\n",
    "for i in tran_disease:\n",
    "    neo_graph.create(i)"
   ]
  },
  {
   "cell_type": "code",
   "execution_count": null,
   "metadata": {},
   "outputs": [],
   "source": []
  }
 ],
 "metadata": {
  "kernelspec": {
   "display_name": "Python 3",
   "language": "python",
   "name": "python3"
  },
  "language_info": {
   "codemirror_mode": {
    "name": "ipython",
    "version": 3
   },
   "file_extension": ".py",
   "mimetype": "text/x-python",
   "name": "python",
   "nbconvert_exporter": "python",
   "pygments_lexer": "ipython3",
   "version": "3.7.2"
  }
 },
 "nbformat": 4,
 "nbformat_minor": 2
}
